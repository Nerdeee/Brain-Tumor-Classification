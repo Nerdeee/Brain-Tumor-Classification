{
 "cells": [
  {
   "cell_type": "code",
   "execution_count": 17,
   "metadata": {},
   "outputs": [
    {
     "ename": "ModuleNotFoundError",
     "evalue": "No module named 'torch'",
     "output_type": "error",
     "traceback": [
      "\u001b[0;31m---------------------------------------------------------------------------\u001b[0m",
      "\u001b[0;31mModuleNotFoundError\u001b[0m                       Traceback (most recent call last)",
      "Cell \u001b[0;32mIn[17], line 1\u001b[0m\n\u001b[0;32m----> 1\u001b[0m \u001b[38;5;28;01mimport\u001b[39;00m \u001b[38;5;21;01mtorch\u001b[39;00m\n\u001b[1;32m      2\u001b[0m \u001b[38;5;28;01mimport\u001b[39;00m \u001b[38;5;21;01mtorch\u001b[39;00m\u001b[38;5;21;01m.\u001b[39;00m\u001b[38;5;21;01mnn\u001b[39;00m \u001b[38;5;28;01mas\u001b[39;00m \u001b[38;5;21;01mnn\u001b[39;00m\n\u001b[1;32m      3\u001b[0m \u001b[38;5;28;01mimport\u001b[39;00m \u001b[38;5;21;01mtorch\u001b[39;00m\u001b[38;5;21;01m.\u001b[39;00m\u001b[38;5;21;01mnn\u001b[39;00m\u001b[38;5;21;01m.\u001b[39;00m\u001b[38;5;21;01mfunctional\u001b[39;00m \u001b[38;5;28;01mas\u001b[39;00m \u001b[38;5;21;01mF\u001b[39;00m\n",
      "\u001b[0;31mModuleNotFoundError\u001b[0m: No module named 'torch'"
     ]
    }
   ],
   "source": [
    "import torch\n",
    "import torch.nn as nn\n",
    "import torch.nn.functional as F\n",
    "import pickle\n",
    "import os\n",
    "from torch.utils.data import DataLoader, TensorDataset\n",
    "from torch.utils.tensorboard import SummaryWriter"
   ]
  },
  {
   "cell_type": "markdown",
   "metadata": {},
   "source": [
    "- Force Use GPU:"
   ]
  },
  {
   "cell_type": "code",
   "execution_count": null,
   "metadata": {},
   "outputs": [],
   "source": [
    "if torch.cuda.is_available():\n",
    "    print(f\"\\nGPU: {torch.cuda.get_device_name(0)} is available\")\n",
    "else:\n",
    "    print('\\nNo GPU available')\n",
    "\n",
    "device = torch.device(\"cuda\")"
   ]
  },
  {
   "cell_type": "markdown",
   "metadata": {},
   "source": [
    "- Load preprocessed data and stores them in pickle files. Images size after preprocessing is 128 x 128."
   ]
  },
  {
   "cell_type": "code",
   "execution_count": null,
   "metadata": {},
   "outputs": [],
   "source": [
    "pickle_folder = \"meningioma-pickle/\"\n",
    "\n",
    "# Load pickled datasets\n",
    "with open(pickle_folder + \"X_train.pickle\", \"rb\") as f:\n",
    "    X_train = pickle.load(f)\n",
    "\n",
    "with open(pickle_folder + \"Y_train.pickle\", \"rb\") as f:\n",
    "    Y_train = pickle.load(f)\n",
    "\n",
    "with open(pickle_folder + \"X_test.pickle\", \"rb\") as f:\n",
    "    X_test = pickle.load(f)\n",
    "\n",
    "with open(pickle_folder + \"Y_test.pickle\", \"rb\") as f:\n",
    "    Y_test = pickle.load(f)\n"
   ]
  },
  {
   "cell_type": "markdown",
   "metadata": {},
   "source": [
    "- Converts the training and testing images into a PyTorch tensor. unsqueeze(1) changes the shape from [128, 128] to [1, 128, 128] to account for 1 channel in the grayscale image."
   ]
  },
  {
   "cell_type": "code",
   "execution_count": null,
   "metadata": {},
   "outputs": [],
   "source": [
    "X_train = torch.tensor(X_train).float().unsqueeze(1)  \n",
    "Y_train = torch.tensor(Y_train, dtype=torch.long)\n",
    "X_test = torch.tensor(X_test).float().unsqueeze(1)\n",
    "Y_test = torch.tensor(Y_test, dtype=torch.long)"
   ]
  },
  {
   "cell_type": "markdown",
   "metadata": {},
   "source": [
    "#### <span syle=\"color:blue\">Model</span>\n",
    "- Create the Neural Network with 4 convolutional layers, 1 global average pooling, and 2 fully connected layers."
   ]
  },
  {
   "cell_type": "code",
   "execution_count": null,
   "metadata": {},
   "outputs": [],
   "source": [
    "class NeuralNet(nn.Module):\n",
    "    def __init__(self):\n",
    "        super(NeuralNet, self).__init__()\n",
    "\n",
    "        # Convolutional layers\n",
    "        self.conv1 = nn.Conv2d(\n",
    "            in_channels=1, out_channels=64, kernel_size=3, stride=1, padding=1)\n",
    "        self.bn1 = nn.BatchNorm2d(64)\n",
    "\n",
    "        self.conv2 = nn.Conv2d(\n",
    "            in_channels=64, out_channels=128, kernel_size=3, stride=1, padding=1)\n",
    "        self.bn2 = nn.BatchNorm2d(128)\n",
    "\n",
    "        self.conv3 = nn.Conv2d(\n",
    "            in_channels=128, out_channels=256, kernel_size=3, stride=1, padding=1)\n",
    "        self.bn3 = nn.BatchNorm2d(256)\n",
    "\n",
    "        self.conv4 = nn.Conv2d(\n",
    "            in_channels=256, out_channels=512, kernel_size=3, stride=1, padding=1)\n",
    "        self.bn4 = nn.BatchNorm2d(512)\n",
    "\n",
    "        # Global average pooling layer\n",
    "        self.global_avg_pool = nn.AdaptiveAvgPool2d(1)\n",
    "\n",
    "        # Fully connected layers\n",
    "        self.fc1 = nn.Linear(512, 128)\n",
    "        self.fc2 = nn.Linear(128, 4)  # Output layer for 4 classes\n",
    "\n",
    "        # Dropout layer\n",
    "        self.dropout = nn.Dropout(0.5)\n",
    "\n",
    "    def forward(self, x):\n",
    "        x = F.relu(self.bn1(self.conv1(x)))\n",
    "        x = F.max_pool2d(x, kernel_size=2, stride=2)\n",
    "\n",
    "        x = F.relu(self.bn2(self.conv2(x)))\n",
    "        x = F.max_pool2d(x, kernel_size=2, stride=2)\n",
    "\n",
    "        x = F.relu(self.bn3(self.conv3(x)))\n",
    "        x = F.max_pool2d(x, kernel_size=2, stride=2)\n",
    "\n",
    "        x = F.relu(self.bn4(self.conv4(x)))\n",
    "        x = F.max_pool2d(x, kernel_size=2, stride=2)\n",
    "\n",
    "        x = self.global_avg_pool(x)\n",
    "        x = torch.flatten(x, 1)  # Flatten for fully connected layers\n",
    "\n",
    "        x = F.relu(self.fc1(x))\n",
    "        x = self.dropout(x)  # Apply dropout\n",
    "        x = self.fc2(x)\n",
    "        return x\n",
    "\n",
    "\n",
    "model = NeuralNet().to(device)\n"
   ]
  },
  {
   "cell_type": "markdown",
   "metadata": {},
   "source": [
    "- DataLoader is used to break the dataset up into batches. By setting shuffle=True the data is shuffled at the beggining of each epoch. \n",
    "- Cross entropy loss and Adam are chosen as hyperparamaters."
   ]
  },
  {
   "cell_type": "code",
   "execution_count": null,
   "metadata": {},
   "outputs": [],
   "source": [
    "# Create datasets and dataloaders\n",
    "train_dataset = TensorDataset(X_train, Y_train)\n",
    "test_dataset = TensorDataset(X_test, Y_test)\n",
    "\n",
    "bs = 96\n",
    "train_loader = DataLoader(train_dataset, batch_size=bs, shuffle=True)\n",
    "test_loader = DataLoader(test_dataset, batch_size=bs, shuffle=False)\n",
    "\n",
    "learning_rate = 0.0001\n",
    "criterion = nn.CrossEntropyLoss()\n",
    "optimizer = torch.optim.Adam(model.parameters(), lr=learning_rate)"
   ]
  },
  {
   "cell_type": "code",
   "execution_count": null,
   "metadata": {},
   "outputs": [],
   "source": [
    "def calculate_metrics(y_pred, y_true):\n",
    "    predicted = torch.argmax(y_pred, dim=1)\n",
    "\n",
    "    tp = ((predicted == 1) & (y_true == 1)).sum().item()  # True Positive\n",
    "    tn = ((predicted == 0) & (y_true == 0)).sum().item()  # True Negative\n",
    "    fp = ((predicted == 1) & (y_true == 0)).sum().item()  # False Positive\n",
    "    fn = ((predicted == 0) & (y_true == 1)).sum().item()  # False Negative\n",
    "\n",
    "    accuracy = (tp + tn) / (tp + tn + fp + fn) if (tp + tn + fp + fn) > 0 else 0\n",
    "    precision = tp / (tp + fp) if (tp + fp) > 0 else 0\n",
    "    recall = tp / (tp + fn) if (tp + fn) > 0 else 0\n",
    "    specificity = tn / (tn + fp) if (tn + fp) > 0 else 0\n",
    "    f1 = 2 * (precision * recall) / (precision + recall) if (precision + recall) > 0 else 0\n",
    "\n",
    "    return fp, tp, fn, tn, accuracy, precision, recall, specificity, f1\n"
   ]
  },
  {
   "cell_type": "markdown",
   "metadata": {},
   "source": [
    "#### Training Loop"
   ]
  },
  {
   "cell_type": "code",
   "execution_count": null,
   "metadata": {},
   "outputs": [],
   "source": [
    "writer = SummaryWriter()\n",
    "\n",
    "# Training loop\n",
    "num_epochs = 50\n",
    "for epoch in range(num_epochs):\n",
    "    model.train()\n",
    "    epoch_loss = 0.0\n",
    "    epoch_metrics = {'accuracy': 0, 'precision': 0, 'recall': 0, 'specificity': 0, 'f1': 0}\n",
    "\n",
    "    for batch_X, batch_Y in train_loader:\n",
    "        batch_X, batch_Y = batch_X.to(device), batch_Y.to(device)\n",
    "        optimizer.zero_grad()\n",
    "        outputs = model(batch_X)\n",
    "        loss = criterion(outputs, batch_Y)\n",
    "        loss.backward()\n",
    "        optimizer.step()\n",
    "\n",
    "        epoch_loss += loss.item()\n",
    "\n",
    "        # Calculate and aggregate metrics for the current batch\n",
    "        fp, tp, fn, tn, accuracy, precision, recall, specificity, f1 = calculate_metrics(outputs, batch_Y)\n",
    "        epoch_metrics['accuracy'] += accuracy\n",
    "        epoch_metrics['precision'] += precision\n",
    "        epoch_metrics['recall'] += recall\n",
    "        epoch_metrics['specificity'] += specificity\n",
    "        epoch_metrics['f1'] += f1\n",
    "\n",
    "    # Average metrics over the dataset\n",
    "    epoch_loss /= len(train_loader)\n",
    "    epoch_metrics = {k: v / len(train_loader) for k, v in epoch_metrics.items()}\n",
    "\n",
    "    # Log metrics using TensorBoard\n",
    "    writer.add_scalar(\"Loss/epoch\", epoch_loss, epoch)\n",
    "    writer.add_scalar(\"Accuracy/epoch\", epoch_metrics['accuracy'], epoch)\n",
    "    writer.add_scalar(\"Precision/epoch\", epoch_metrics['precision'], epoch)\n",
    "    writer.add_scalar(\"Recall/epoch\", epoch_metrics['recall'], epoch)\n",
    "    writer.add_scalar(\"Specificity/epoch\", epoch_metrics['specificity'], epoch)\n",
    "    writer.add_scalar(\"F1/epoch\", epoch_metrics['f1'], epoch)\n",
    "\n",
    "    # Print metrics\n",
    "    print(f'Epoch [{epoch+1}/{num_epochs}], Loss: {epoch_loss:.4f}, '\n",
    "          f'Accuracy: {epoch_metrics[\"accuracy\"]*100:.2f}%, '\n",
    "          f'Precision: {epoch_metrics[\"precision\"]:.4f}, '\n",
    "          f'Recall: {epoch_metrics[\"recall\"]:.4f}, '\n",
    "          f'Specificity: {epoch_metrics[\"specificity\"]:.4f}, '\n",
    "          f'F1 Score: {epoch_metrics[\"f1\"]:.4f}')"
   ]
  },
  {
   "cell_type": "markdown",
   "metadata": {},
   "source": [
    "#### Testing Loop"
   ]
  },
  {
   "cell_type": "code",
   "execution_count": null,
   "metadata": {},
   "outputs": [],
   "source": [
    "# Testing loop\n",
    "model.eval()\n",
    "test_metrics = {'accuracy': 0, 'precision': 0, 'recall': 0, 'specificity': 0, 'f1': 0}\n",
    "\n",
    "with torch.no_grad():\n",
    "    for batch_X, batch_Y in test_loader:\n",
    "        batch_X, batch_Y = batch_X.to(device), batch_Y.to(device)\n",
    "        outputs = model(batch_X)\n",
    "\n",
    "        # Calculate and aggregate metrics for the current batch\n",
    "        fp, tp, fn, tn, accuracy, precision, recall, specificity, f1 = calculate_metrics(outputs, batch_Y)\n",
    "        test_metrics['accuracy'] += accuracy\n",
    "        test_metrics['precision'] += precision\n",
    "        test_metrics['recall'] += recall\n",
    "        test_metrics['specificity'] += specificity\n",
    "        test_metrics['f1'] += f1\n",
    "\n",
    "# Average metrics over the test set\n",
    "test_metrics = {k: v / len(test_loader) for k, v in test_metrics.items()}\n",
    "\n",
    "# Log metrics for testing\n",
    "writer.add_scalar(\"Test Accuracy\", test_metrics['accuracy'], num_epochs)\n",
    "writer.add_scalar(\"Test Precision\", test_metrics['precision'], num_epochs)\n",
    "writer.add_scalar(\"Test Recall\", test_metrics['recall'], num_epochs)\n",
    "writer.add_scalar(\"Test Specificity\", test_metrics['specificity'], num_epochs)\n",
    "writer.add_scalar(\"Test F1\", test_metrics['f1'], num_epochs)\n",
    "\n",
    "# Print and save test metrics\n",
    "print(f'Test Accuracy: {test_metrics[\"accuracy\"]*100:.2f}%, '\n",
    "      f'Test Precision: {test_metrics[\"precision\"]:.4f}, '\n",
    "      f'Test Recall: {test_metrics[\"recall\"]:.4f}, '\n",
    "      f'Test Specificity: {test_metrics[\"specificity\"]:.4f}, '\n",
    "      f'Test F1 Score: {test_metrics[\"f1\"]:.4f}')\n",
    "\n",
    "writer.close()"
   ]
  }
 ],
 "metadata": {
  "kernelspec": {
   "display_name": "brain-tumor",
   "language": "python",
   "name": "python3"
  },
  "language_info": {
   "codemirror_mode": {
    "name": "ipython",
    "version": 3
   },
   "file_extension": ".py",
   "mimetype": "text/x-python",
   "name": "python",
   "nbconvert_exporter": "python",
   "pygments_lexer": "ipython3",
   "version": "3.12.7"
  }
 },
 "nbformat": 4,
 "nbformat_minor": 2
}
