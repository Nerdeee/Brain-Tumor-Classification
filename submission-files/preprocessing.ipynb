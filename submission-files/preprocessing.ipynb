{
 "cells": [
  {
   "cell_type": "code",
   "execution_count": null,
   "metadata": {},
   "outputs": [],
   "source": [
    "import os\n",
    "import torch\n",
    "import numpy as np\n",
    "import pickle\n",
    "from torchvision import transforms\n",
    "from torch.utils.data import DataLoader\n",
    "from PIL import Image"
   ]
  },
  {
   "cell_type": "markdown",
   "metadata": {},
   "source": [
    "#### Preprocessing\n",
    "\n",
    "- Images are resized to 224x224 pixels and then converted to gray scale. Gray scale only uses 1 channel so the appropriate tensor is created. Finally, the tensor is normalized to have values between 0 and 1 with mean and std deviation of 0.5. This is done to make the model more robust to different lighting conditions and to make the model more generalizable."
   ]
  },
  {
   "cell_type": "code",
   "execution_count": null,
   "metadata": {},
   "outputs": [],
   "source": [
    "# Set the root directory for the dataset\n",
    "root_dir = 'archive'\n",
    "\n",
    "# Image preprocessing transform (resizing to a standard size and normalizing)\n",
    "transform = transforms.Compose([\n",
    "    transforms.Resize((224, 224)),  # Resize all images to 224x224\n",
    "    transforms.Grayscale(num_output_channels=1),  # Convert to grayscale (if necessary)\n",
    "    transforms.ToTensor(),  # Convert image to tensor\n",
    "    transforms.Normalize(mean=[0.5], std=[0.5])  # Normalize pixel values to [0, 1]\n",
    "])"
   ]
  },
  {
   "cell_type": "markdown",
   "metadata": {},
   "source": [
    "- Images are classified into 4 classes. 3 classes represent the types of tumors and the 4th class is no tumor. Place images into appropriate folders based on the class label."
   ]
  },
  {
   "cell_type": "code",
   "execution_count": null,
   "metadata": {},
   "outputs": [],
   "source": [
    "# Initialize lists to store images and labels\n",
    "images = []\n",
    "labels = []\n",
    "\n",
    "# Define class names and label mapping\n",
    "class_names = ['glioma', 'meningioma', 'notumor', 'pituitary']\n",
    "label_map = {name: i for i, name in enumerate(class_names)}\n",
    "\n",
    "# Loop over the subdirectories in 'Training' and 'Testing' folders\n",
    "for split in ['Training', 'Testing']:\n",
    "    for class_name in class_names:\n",
    "        class_dir = os.path.join(root_dir, split, class_name)\n",
    "        label = label_map[class_name]\n",
    "        \n",
    "        # Loop through all images in the class directory\n",
    "        for img_name in os.listdir(class_dir):\n",
    "            img_path = os.path.join(class_dir, img_name)\n",
    "            try:\n",
    "                # Open and preprocess the image\n",
    "                img = Image.open(img_path).convert('RGB')\n",
    "                img = transform(img)\n",
    "                images.append(img)\n",
    "                labels.append(label)\n",
    "            except Exception as e:\n",
    "                print(f\"Error processing image {img_path}: {e}\")"
   ]
  },
  {
   "cell_type": "markdown",
   "metadata": {},
   "source": [
    "- Randomly split the data into training and validation sets. 80% of the data is used for training and 20% is used for validation."
   ]
  },
  {
   "cell_type": "code",
   "execution_count": null,
   "metadata": {},
   "outputs": [],
   "source": [
    "# Convert lists to tensors\n",
    "X = torch.stack(images)\n",
    "y = torch.tensor(labels, dtype=torch.long)\n",
    "\n",
    "# Shuffle the indices for random splitting\n",
    "num_samples = len(X)\n",
    "indices = torch.randperm(num_samples).tolist()\n",
    "\n",
    "# 80% for training and 20% for testing\n",
    "split_index = int(0.8 * num_samples)\n",
    "train_indices = indices[:split_index]\n",
    "test_indices = indices[split_index:]\n",
    "\n",
    "# Use the indices to split the data\n",
    "X_train = X[train_indices]\n",
    "y_train = y[train_indices]\n",
    "X_test = X[test_indices]\n",
    "y_test = y[test_indices]\n",
    "\n"
   ]
  },
  {
   "cell_type": "markdown",
   "metadata": {},
   "source": [
    "- Dump into appropriate pickle folder."
   ]
  },
  {
   "cell_type": "code",
   "execution_count": null,
   "metadata": {},
   "outputs": [],
   "source": [
    "# Save the data as pickle files\n",
    "pickle_folder = 'pickle/'\n",
    "\n",
    "# Ensure the folder exists\n",
    "os.makedirs(pickle_folder, exist_ok=True)\n",
    "\n",
    "# Save training and testing data\n",
    "with open(os.path.join(pickle_folder, 'X_train.pickle'), 'wb') as f:\n",
    "    pickle.dump(X_train.numpy(), f)\n",
    "\n",
    "with open(os.path.join(pickle_folder, 'Y_train.pickle'), 'wb') as f:\n",
    "    pickle.dump(y_train.numpy(), f)\n",
    "\n",
    "with open(os.path.join(pickle_folder, 'X_test.pickle'), 'wb') as f:\n",
    "    pickle.dump(X_test.numpy(), f)\n",
    "\n",
    "with open(os.path.join(pickle_folder, 'Y_test.pickle'), 'wb') as f:\n",
    "    pickle.dump(y_test.numpy(), f)\n",
    "\n",
    "print(\"Pickle files have been created successfully!\")"
   ]
  }
 ],
 "metadata": {
  "language_info": {
   "name": "python"
  }
 },
 "nbformat": 4,
 "nbformat_minor": 2
}
